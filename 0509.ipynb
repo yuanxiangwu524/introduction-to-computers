{
  "nbformat": 4,
  "nbformat_minor": 0,
  "metadata": {
    "colab": {
      "name": "0509.ipynb",
      "provenance": [],
      "authorship_tag": "ABX9TyOrsymYwRdACN+MqP+MFuvR",
      "include_colab_link": true
    },
    "kernelspec": {
      "name": "python3",
      "display_name": "Python 3"
    },
    "language_info": {
      "name": "python"
    }
  },
  "cells": [
    {
      "cell_type": "markdown",
      "metadata": {
        "id": "view-in-github",
        "colab_type": "text"
      },
      "source": [
        "<a href=\"https://colab.research.google.com/github/yuanxiangwu524/introduction-to-computers/blob/main/0509.ipynb\" target=\"_parent\"><img src=\"https://colab.research.google.com/assets/colab-badge.svg\" alt=\"Open In Colab\"/></a>"
      ]
    },
    {
      "cell_type": "code",
      "execution_count": 2,
      "metadata": {
        "colab": {
          "base_uri": "https://localhost:8080/"
        },
        "id": "7nzKPY6OhIaF",
        "outputId": "8f30635f-d445-4987-a8d8-1b787f4b3cf0"
      },
      "outputs": [
        {
          "output_type": "stream",
          "name": "stdout",
          "text": [
            "123\n"
          ]
        }
      ],
      "source": [
        "print(\"123\")"
      ]
    },
    {
      "cell_type": "code",
      "source": [
        "temp=float(input(\"請輸入你的體溫\"))\n",
        "if temp >=37.5:\n",
        "  print(\"體溫過高!\")\n",
        "elif temp>=37 and temp<37.4:\n",
        "  print(\"體溫略高!\")\n",
        "elif temp>=34 and temp<=36.9:\n",
        "  print(\"體溫正常!\")  \n",
        "else:\n",
        "  print(\"體溫異常，請重新量測!\")   "
      ],
      "metadata": {
        "colab": {
          "base_uri": "https://localhost:8080/"
        },
        "id": "VbBi7UIeh6c_",
        "outputId": "e3ea7745-19bf-4955-8330-f07137963b60"
      },
      "execution_count": 29,
      "outputs": [
        {
          "output_type": "stream",
          "name": "stdout",
          "text": [
            "請輸入你的體溫37.2\n",
            "體溫略高!\n"
          ]
        }
      ]
    },
    {
      "cell_type": "code",
      "source": [
        "grade=input(\"請輸入成績\")\n",
        "if (int(grade) >=90):\n",
        "  print(\"A\")\n",
        "elif (int(grade)>=80):\n",
        "  print(\"B\")\n",
        "elif (int(grade)>=70):\n",
        "  print(\"C\")\n",
        "elif (int(grade)>=60):\n",
        "  print(\"D\")\n",
        "else:\n",
        "  print(\"E\")\n"
      ],
      "metadata": {
        "colab": {
          "base_uri": "https://localhost:8080/"
        },
        "id": "RPb1-JZTjhJu",
        "outputId": "1557b925-7282-44c7-9963-78d51c69b3d4"
      },
      "execution_count": 14,
      "outputs": [
        {
          "output_type": "stream",
          "name": "stdout",
          "text": [
            "請輸入成績67\n",
            "D\n"
          ]
        }
      ]
    },
    {
      "cell_type": "code",
      "source": [
        "money=int(input(\"請輸入購物金額:\"))\n",
        "if(money>=10000):\n",
        " if(money>=100000):\n",
        "  print(\"八折\",money*0.8,end=\"元\\n\")\n",
        " elif(money>=50000):\n",
        "   print(\"八五折\",money*0.85,end=\"元\\n\")\n",
        " elif(money>=30000):\n",
        "   print(\"九折\",money*0.9,end=\"元\\n\")\n",
        " else:\n",
        "   print(\"九五折\",money*0.95,end=\"元\\n\")\n",
        "else:\n",
        "  print(\"沒打折\",money,end=\"元\\n\")\n",
        "\n"
      ],
      "metadata": {
        "colab": {
          "base_uri": "https://localhost:8080/"
        },
        "id": "KuW0J8M9mUmd",
        "outputId": "df0f00b9-80dc-4ac7-e3c8-4141ba9a34d2"
      },
      "execution_count": 26,
      "outputs": [
        {
          "output_type": "stream",
          "name": "stdout",
          "text": [
            "請輸入購物金額:50000\n",
            "八五折 42500.0元\n"
          ]
        }
      ]
    },
    {
      "cell_type": "code",
      "source": [
        "month=float(input(\"請輸入月份\"))\n",
        "if month>=3 and month<=5:\n",
        "  print(\"春天\")\n",
        "elif month>=6 and month<=8:\n",
        "  print(\"夏天\")  \n",
        "elif month>=9 and month<=11:\n",
        "  print(\"秋天\")\n",
        "elif month>=12 and month<=2:\n",
        "  print(\"冬天\")\n",
        "\n",
        "else:\n",
        "  print(\"月份不在範圍內!\")\n"
      ],
      "metadata": {
        "colab": {
          "base_uri": "https://localhost:8080/"
        },
        "id": "sIaSadPtqBzW",
        "outputId": "74fa2a58-079e-49b8-a6f1-d2acfc6cdceb"
      },
      "execution_count": 45,
      "outputs": [
        {
          "output_type": "stream",
          "name": "stdout",
          "text": [
            "請輸入月份14\n",
            "月份不在範圍內!\n"
          ]
        }
      ]
    },
    {
      "cell_type": "code",
      "source": [
        "tax=int(input(\"請輸入收入金額\"))\n",
        "if(tax>=2000000):\n",
        "  if(tax>=2000000):\n",
        "    print(\"0.3\",tax*0.3,end=\"元\\n\")\n",
        "  elif(tax>=1000000):\n",
        "    print(\"0.21\",tax*0.21,end=\"元\\n\")\n",
        "  elif(tax>=600000):\n",
        "    print(\"0.13\",tax*0.13,end=\"元\\n\")\n",
        "else:\n",
        "    print(\"0.06\",tax*0.06,end=\"元\\n\")\n",
        "\n",
        "            \n"
      ],
      "metadata": {
        "colab": {
          "base_uri": "https://localhost:8080/"
        },
        "id": "fLXtFjWHuEBf",
        "outputId": "48f96910-3b1e-48fe-d0b0-c5ff06646d53"
      },
      "execution_count": 52,
      "outputs": [
        {
          "output_type": "stream",
          "name": "stdout",
          "text": [
            "請輸入收入金額2100000\n",
            "0.3 630000.0元\n"
          ]
        }
      ]
    }
  ]
}