{
  "nbformat": 4,
  "nbformat_minor": 0,
  "metadata": {
    "colab": {
      "name": "Untitled1.ipynb",
      "provenance": [],
      "authorship_tag": "ABX9TyOLVA+h2F1vR/+y5NW7Oy/J",
      "include_colab_link": true
    },
    "kernelspec": {
      "name": "python3",
      "display_name": "Python 3"
    },
    "language_info": {
      "name": "python"
    }
  },
  "cells": [
    {
      "cell_type": "markdown",
      "metadata": {
        "id": "view-in-github",
        "colab_type": "text"
      },
      "source": [
        "<a href=\"https://colab.research.google.com/github/yuanxiangwu524/introduction-to-computers/blob/main/Untitled1.ipynb\" target=\"_parent\"><img src=\"https://colab.research.google.com/assets/colab-badge.svg\" alt=\"Open In Colab\"/></a>"
      ]
    },
    {
      "cell_type": "code",
      "execution_count": 2,
      "metadata": {
        "id": "xLS9Zh4OfjN_",
        "colab": {
          "base_uri": "https://localhost:8080/"
        },
        "outputId": "b8944d68-993c-46b9-e21d-234a4085d658"
      },
      "outputs": [
        {
          "output_type": "execute_result",
          "data": {
            "text/plain": [
              "(True, False)"
            ]
          },
          "metadata": {},
          "execution_count": 2
        }
      ],
      "source": [
        "(5+9<2+13),(8+9<2+13)\n"
      ]
    },
    {
      "cell_type": "code",
      "source": [
        "(6+9>=2+13),(3+9>=2+13)"
      ],
      "metadata": {
        "colab": {
          "base_uri": "https://localhost:8080/"
        },
        "id": "peIF6ZudgRvU",
        "outputId": "7a0cf810-0644-4223-9d8c-dfe10bfcfc87"
      },
      "execution_count": 3,
      "outputs": [
        {
          "output_type": "execute_result",
          "data": {
            "text/plain": [
              "(True, False)"
            ]
          },
          "metadata": {},
          "execution_count": 3
        }
      ]
    },
    {
      "cell_type": "code",
      "source": [
        "(3+9<=2+13),(8+9<=2+13)"
      ],
      "metadata": {
        "colab": {
          "base_uri": "https://localhost:8080/"
        },
        "id": "sjEuHyHYgeK6",
        "outputId": "58313378-4318-4965-b9a6-a99d257d762b"
      },
      "execution_count": 4,
      "outputs": [
        {
          "output_type": "execute_result",
          "data": {
            "text/plain": [
              "(True, False)"
            ]
          },
          "metadata": {},
          "execution_count": 4
        }
      ]
    },
    {
      "cell_type": "code",
      "source": [
        "print('梯形上底長度為:%d, 梯形下底長度為:%d,梯形高度為:%d,梯形面積為:%d'%(上底,下底,高,面積))"
      ],
      "metadata": {
        "colab": {
          "base_uri": "https://localhost:8080/",
          "height": 166
        },
        "id": "to1DJRJFgo1b",
        "outputId": "efa7b47c-1cce-485e-8626-67cd6e79fa0d"
      },
      "execution_count": 19,
      "outputs": [
        {
          "output_type": "error",
          "ename": "NameError",
          "evalue": "ignored",
          "traceback": [
            "\u001b[0;31m---------------------------------------------------------------------------\u001b[0m",
            "\u001b[0;31mNameError\u001b[0m                                 Traceback (most recent call last)",
            "\u001b[0;32m<ipython-input-19-eed78faeba9e>\u001b[0m in \u001b[0;36m<module>\u001b[0;34m()\u001b[0m\n\u001b[0;32m----> 1\u001b[0;31m \u001b[0mprint\u001b[0m\u001b[0;34m(\u001b[0m\u001b[0;34m'梯形上底長度為:%d, 梯形下底長度為:%d,梯形高度為:%d,梯形面積為:%d'\u001b[0m\u001b[0;34m%\u001b[0m\u001b[0;34m(\u001b[0m\u001b[0m上底\u001b[0m\u001b[0;34m,\u001b[0m\u001b[0m下底\u001b[0m\u001b[0;34m,\u001b[0m\u001b[0m高\u001b[0m\u001b[0;34m,\u001b[0m\u001b[0m面積\u001b[0m\u001b[0;34m)\u001b[0m\u001b[0;34m)\u001b[0m\u001b[0;34m\u001b[0m\u001b[0;34m\u001b[0m\u001b[0m\n\u001b[0m",
            "\u001b[0;31mNameError\u001b[0m: name '上底' is not defined"
          ]
        }
      ]
    },
    {
      "cell_type": "code",
      "source": [
        "a = 1.1\n",
        "b = 2.02\n",
        "c = 3.003\n",
        "print('a= %0.1f, b= %0.2f, c=: %0.3f' % (a, b, c))"
      ],
      "metadata": {
        "colab": {
          "base_uri": "https://localhost:8080/"
        },
        "id": "KYIzSHgIkGrl",
        "outputId": "b7121242-c098-4f61-f1f9-28c6165f74a8"
      },
      "execution_count": 14,
      "outputs": [
        {
          "output_type": "stream",
          "name": "stdout",
          "text": [
            "a= 1.1, b= 2.02, c=: 3.003\n"
          ]
        }
      ]
    },
    {
      "cell_type": "code",
      "source": [
        "身高 = int(input('請輸入您的身高(cm):'))\n",
        "體重 = int(input('請輸入您的體重(kg):'))\n",
        "BMI = 體重 / ((身高 / 100)** 2)\n",
        "print('身高',身高,'公分','體重',體重,'公斤','BMI值為',BMI)"
      ],
      "metadata": {
        "colab": {
          "base_uri": "https://localhost:8080/"
        },
        "id": "d82N-Vxvknol",
        "outputId": "fd69271c-0326-4db1-f681-aeb0283e8814"
      },
      "execution_count": 18,
      "outputs": [
        {
          "output_type": "stream",
          "name": "stdout",
          "text": [
            "請輸入您的身高(cm):180\n",
            "請輸入您的體重(kg):78\n",
            "身高 180 公分 體重 78 公斤 BMI值為 24.074074074074073\n"
          ]
        }
      ]
    },
    {
      "cell_type": "code",
      "source": [
        "(6+9==2+13),(8+9==2+13)"
      ],
      "metadata": {
        "colab": {
          "base_uri": "https://localhost:8080/"
        },
        "id": "lqXqtZX4nBUS",
        "outputId": "73d32ac5-7350-4bdd-f65b-18922439be19"
      },
      "execution_count": 20,
      "outputs": [
        {
          "output_type": "execute_result",
          "data": {
            "text/plain": [
              "(True, False)"
            ]
          },
          "metadata": {},
          "execution_count": 20
        }
      ]
    },
    {
      "cell_type": "code",
      "source": [
        "34 % 3"
      ],
      "metadata": {
        "colab": {
          "base_uri": "https://localhost:8080/"
        },
        "id": "CTkJUlACoQJY",
        "outputId": "a0e99c11-d439-4d04-abaf-c25eea70df6d"
      },
      "execution_count": 21,
      "outputs": [
        {
          "output_type": "execute_result",
          "data": {
            "text/plain": [
              "1"
            ]
          },
          "metadata": {},
          "execution_count": 21
        }
      ]
    },
    {
      "cell_type": "code",
      "source": [
        "3 ** 2"
      ],
      "metadata": {
        "colab": {
          "base_uri": "https://localhost:8080/"
        },
        "id": "pOvoVIJmqGnh",
        "outputId": "845c6c53-82af-4cce-a474-e61b7101d220"
      },
      "execution_count": 22,
      "outputs": [
        {
          "output_type": "execute_result",
          "data": {
            "text/plain": [
              "9"
            ]
          },
          "metadata": {},
          "execution_count": 22
        }
      ]
    },
    {
      "cell_type": "code",
      "source": [
        "3 ** 3"
      ],
      "metadata": {
        "colab": {
          "base_uri": "https://localhost:8080/"
        },
        "id": "GRllT6VuqLZO",
        "outputId": "f119c52d-2b63-4dc0-f55f-5d5740e0492c"
      },
      "execution_count": 23,
      "outputs": [
        {
          "output_type": "execute_result",
          "data": {
            "text/plain": [
              "27"
            ]
          },
          "metadata": {},
          "execution_count": 23
        }
      ]
    },
    {
      "cell_type": "code",
      "source": [
        "上底 = int(input('請輸入梯形上底長度:'))\n",
        "下底 = int(input('請輸入梯形下底長度:'))\n",
        "高  =  int(input('請輸入梯形的高度:'))\n",
        "面積 = (上底 + 下底) * 高 / 2\n",
        "print('梯形上3底的長度為:',上底,'梯形下底的長度為:',下底,'梯形高度為:',高,'梯形面積為:',面積)"
      ],
      "metadata": {
        "colab": {
          "base_uri": "https://localhost:8080/"
        },
        "id": "446I2grMqOYH",
        "outputId": "004fb4a1-dbfb-4766-f01a-0c7be290c243"
      },
      "execution_count": 31,
      "outputs": [
        {
          "output_type": "stream",
          "name": "stdout",
          "text": [
            "請輸入梯形上底長度:3\n",
            "請輸入梯形下底長度:4\n",
            "請輸入梯形的高度:3\n",
            "梯形上3底的長度為: 3 梯形下底的長度為: 4 梯形高度為: 3 梯形面積為: 10.5\n"
          ]
        }
      ]
    }
  ]
}